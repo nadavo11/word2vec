{
 "cells": [
  {
   "cell_type": "code",
   "id": "initial_id",
   "metadata": {
    "collapsed": true,
    "ExecuteTime": {
     "end_time": "2025-04-26T16:09:59.093338Z",
     "start_time": "2025-04-26T16:09:59.071423Z"
    }
   },
   "source": [
    "from q2a_softmax import softmax, test_softmax_basic\n",
    "#import numpy as np\n",
    "\n",
    "test_softmax_basic()\n",
    "\n"
   ],
   "outputs": [
    {
     "name": "stdout",
     "output_type": "stream",
     "text": [
      "Running basic tests...\n",
      "[0.26894142 0.73105858]\n",
      "[[0.26894142 0.73105858]\n",
      " [0.26894142 0.73105858]]\n",
      "[[0.73105858 0.26894142]]\n",
      "You should be able to verify these results by hand!\n",
      "\n"
     ]
    }
   ],
   "execution_count": 2
  },
  {
   "metadata": {
    "ExecuteTime": {
     "end_time": "2025-04-26T16:11:28.899732Z",
     "start_time": "2025-04-26T16:11:25.286556Z"
    }
   },
   "cell_type": "code",
   "source": [
    "# load the saved model \"saved_state_40000.pickle\"\n",
    "import pickle\n",
    "import os\n",
    "import numpy as np\n",
    "import random\n",
    "import matplotlib.pyplot as plt\n",
    "from helpers.treebank import StanfordSentiment\n",
    "from q2c_word2vec import *\n",
    "from q2d_sgd import *\n",
    "from q2a_softmax import softmax\n",
    "from q2b_gradcheck import gradcheck_naive\n",
    "from q2c_word2vec import word2vec_sgd_wrapper\n",
    "from q2d_sgd import sgd\n",
    "from q2c_word2vec import skipgram, neg_sampling_loss_and_gradient\n",
    "from q2d_sgd import load_saved_params, save_params\n",
    "from q2e_run import visualize_words, visualize_idx\n",
    "from q2e_run import word_vectors, dataset, tokens\n",
    "\n",
    "# Load the saved model\n",
    "saved_state_file = \"saved_state_40000.pickle\"\n",
    "with open(saved_state_file, \"rb\") as f:\n",
    "    state = pickle.load(f)\n",
    "\n"
   ],
   "id": "8b3b84fc849784ff",
   "outputs": [
    {
     "name": "stdout",
     "output_type": "stream",
     "text": [
      "sanity check: cost at convergence should be around or below 10\n",
      "training took 0.0562288761138916 seconds\n"
     ]
    }
   ],
   "execution_count": 3
  }
 ],
 "metadata": {
  "kernelspec": {
   "display_name": "Python 3",
   "language": "python",
   "name": "python3"
  },
  "language_info": {
   "codemirror_mode": {
    "name": "ipython",
    "version": 2
   },
   "file_extension": ".py",
   "mimetype": "text/x-python",
   "name": "python",
   "nbconvert_exporter": "python",
   "pygments_lexer": "ipython2",
   "version": "2.7.6"
  }
 },
 "nbformat": 4,
 "nbformat_minor": 5
}
